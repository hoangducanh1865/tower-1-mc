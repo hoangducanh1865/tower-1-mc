{
 "cells": [
  {
   "cell_type": "code",
   "execution_count": 2,
   "metadata": {},
   "outputs": [
    {
     "name": "stdout",
     "output_type": "stream",
     "text": [
      "Cloning into 'tower-1-mc'...\n",
      "remote: Enumerating objects: 139, done.\u001b[K\n",
      "remote: Counting objects: 100% (139/139), done.\u001b[K\n",
      "remote: Compressing objects: 100% (102/102), done.\u001b[K\n",
      "remote: Total 139 (delta 62), reused 104 (delta 31), pack-reused 0 (from 0)\u001b[K\n",
      "Receiving objects: 100% (139/139), 77.27 KiB | 7.73 MiB/s, done.\n",
      "Resolving deltas: 100% (62/62), done.\n"
     ]
    }
   ],
   "source": [
    "!git clone https://github.com/hoangducanh1865/tower-1-mc.git"
   ]
  },
  {
   "cell_type": "code",
   "execution_count": 7,
   "metadata": {},
   "outputs": [
    {
     "name": "stdout",
     "output_type": "stream",
     "text": [
      "/kaggle/working/tower-1-mc\n",
      "remote: Enumerating objects: 7, done.\u001b[K\n",
      "remote: Counting objects: 100% (7/7), done.\u001b[K\n",
      "remote: Compressing objects: 100% (1/1), done.\u001b[K\n",
      "remote: Total 4 (delta 3), reused 4 (delta 3), pack-reused 0 (from 0)\u001b[K\n",
      "Unpacking objects: 100% (4/4), 778 bytes | 778.00 KiB/s, done.\n",
      "From https://github.com/hoangducanh1865/tower-1-mc\n",
      "   871dc86..006d3ac  main       -> origin/main\n",
      "Updating 871dc86..006d3ac\n",
      "Fast-forward\n",
      " main.py       |  3 \u001b[32m+++\u001b[m\n",
      " main_lr.ipynb | 21 \u001b[32m++++++++++++++++++\u001b[m\u001b[31m---\u001b[m\n",
      " 2 files changed, 21 insertions(+), 3 deletions(-)\n",
      "/kaggle/working\n"
     ]
    }
   ],
   "source": [
    "'''\n",
    "git config user.name \n",
    "git config user.email\n",
    "git remote -v \n",
    "git branch \n",
    "\n",
    "git status\n",
    "\n",
    "git add . \n",
    "git commit -m “Update”\n",
    "git push -u origin main \n",
    "'''\n",
    "%cd tower-1-mc\n",
    "!git pull\n",
    "%cd .."
   ]
  },
  {
   "cell_type": "code",
   "execution_count": 8,
   "metadata": {},
   "outputs": [
    {
     "name": "stdout",
     "output_type": "stream",
     "text": [
      "cuda\n",
      "Figure(640x480)\n",
      "Figure(640x480)\n",
      "w [[-33.73541021]\n",
      " [  0.55920496]]\n",
      "my w [-33.73541021   0.55920496]\n"
     ]
    }
   ],
   "source": [
    "!python tower-1-mc/main.py"
   ]
  }
 ],
 "metadata": {
  "kernelspec": {
   "display_name": "Python 3 (ipykernel)",
   "language": "python",
   "name": "python3"
  }
 },
 "nbformat": 4,
 "nbformat_minor": 2
}
