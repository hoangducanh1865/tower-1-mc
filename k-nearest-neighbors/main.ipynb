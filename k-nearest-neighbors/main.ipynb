{
 "cells": [
  {
   "cell_type": "code",
   "execution_count": null,
   "metadata": {},
   "outputs": [],
   "source": [
    "'''\n",
    "git config user.name \n",
    "git config user.email\n",
    "git remote -v \n",
    "git branch \n",
    "\n",
    "git status\n",
    "git add . \n",
    "git commit -m “Update”\n",
    "git push -u origin main \n",
    "'''"
   ]
  },
  {
   "cell_type": "code",
   "execution_count": 4,
   "metadata": {},
   "outputs": [
    {
     "name": "stdout",
     "output_type": "stream",
     "text": [
      "Cloning into 'tower-1-mc'...\n",
      "remote: Enumerating objects: 104, done.\u001b[K\n",
      "remote: Counting objects: 100% (104/104), done.\u001b[K\n",
      "remote: Compressing objects: 100% (76/76), done.\u001b[K\n",
      "remote: Total 104 (delta 46), reused 79 (delta 24), pack-reused 0 (from 0)\u001b[K\n",
      "Receiving objects: 100% (104/104), 70.03 KiB | 5.83 MiB/s, done.\n",
      "Resolving deltas: 100% (46/46), done.\n"
     ]
    }
   ],
   "source": [
    "!git clone https://github.com/namdeptraivcd/tower-1-mc"
   ]
  },
  {
   "cell_type": "code",
   "execution_count": 2,
   "metadata": {},
   "outputs": [
    {
     "name": "stdout",
     "output_type": "stream",
     "text": [
      "/kaggle/working\n"
     ]
    }
   ],
   "source": [
    "!pwd\n",
    "\n",
    "\n"
   ]
  },
  {
   "cell_type": "code",
   "execution_count": 9,
   "metadata": {},
   "outputs": [
    {
     "name": "stdout",
     "output_type": "stream",
     "text": [
      "/kaggle/tower-1-mc\n",
      "remote: Enumerating objects: 9, done.\u001b[K\n",
      "remote: Counting objects: 100% (9/9), done.\u001b[K\n",
      "remote: Compressing objects: 100% (2/2), done.\u001b[K\n",
      "remote: Total 5 (delta 3), reused 5 (delta 3), pack-reused 0 (from 0)\u001b[K\n",
      "Unpacking objects: 100% (5/5), 1.04 KiB | 535.00 KiB/s, done.\n",
      "From https://github.com/namdeptraivcd/tower-1-mc\n",
      "   9b9e762..58f7f60  main       -> origin/main\n",
      "Updating 9b9e762..58f7f60\n",
      "Fast-forward\n",
      " k-nearest-neighbors/knn.py     |  4 \u001b[32m+\u001b[m\u001b[31m---\u001b[m\n",
      " k-nearest-neighbors/main.ipynb | 32 \u001b[32m+++++++++++++++++++++++++\u001b[m\u001b[31m-------\u001b[m\n",
      " 2 files changed, 26 insertions(+), 10 deletions(-)\n",
      "/kaggle\n"
     ]
    }
   ],
   "source": [
    "%cd tower-1-mc\n",
    "!git pull\n",
    "%cd .."
   ]
  },
  {
   "cell_type": "code",
   "execution_count": 10,
   "metadata": {},
   "outputs": [
    {
     "name": "stdout",
     "output_type": "stream",
     "text": [
      "Naive time point to set:  0.6900081634521484\n",
      "Fast time point to set:  0.23713326454162598\n",
      "result_difference:  5.829242024122479e-11\n",
      "Naive time set to set:  70.1914050579071\n",
      "Fast time set to set:  0.599618673324585\n",
      "Result_difference:  7.073653877834042e-10\n"
     ]
    }
   ],
   "source": [
    "!python tower-1-mc/k-nearest-neighbors/knn.py"
   ]
  }
 ],
 "metadata": {
  "kernelspec": {
   "display_name": "Python 3 (ipykernel)",
   "language": "python",
   "name": "python3"
  },
  "language_info": {
   "codemirror_mode": {
    "name": "ipython",
    "version": 3
   },
   "file_extension": ".py",
   "mimetype": "text/x-python",
   "name": "python",
   "nbconvert_exporter": "python",
   "pygments_lexer": "ipython3",
   "version": "3.11.13"
  }
 },
 "nbformat": 4,
 "nbformat_minor": 2
}
