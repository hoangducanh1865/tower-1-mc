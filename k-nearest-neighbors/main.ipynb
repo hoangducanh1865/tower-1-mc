{
 "cells": [
  {
   "cell_type": "code",
   "execution_count": null,
   "metadata": {},
   "outputs": [],
   "source": [
    "'''\n",
    "git config user.name \n",
    "git config user.email\n",
    "git remote -v \n",
    "git branch \n",
    "\n",
    "git status\n",
    "git add . \n",
    "git commit -m “Update”\n",
    "git push -u origin main \n",
    "'''"
   ]
  },
  {
   "cell_type": "code",
   "execution_count": 1,
   "metadata": {},
   "outputs": [
    {
     "name": "stdout",
     "output_type": "stream",
     "text": [
      "Cloning into 'tower-1-mc'...\n",
      "remote: Enumerating objects: 80, done.\u001b[K\n",
      "remote: Counting objects: 100% (80/80), done.\u001b[K\n",
      "remote: Compressing objects: 100% (60/60), done.\u001b[K\n",
      "remote: Total 80 (delta 32), reused 61 (delta 16), pack-reused 0 (from 0)\u001b[K\n",
      "Receiving objects: 100% (80/80), 66.22 KiB | 6.02 MiB/s, done.\n",
      "Resolving deltas: 100% (32/32), done.\n"
     ]
    }
   ],
   "source": [
    "!git clone https://github.com/namdeptraivcd/tower-1-mc"
   ]
  },
  {
   "cell_type": "code",
   "execution_count": 12,
   "metadata": {},
   "outputs": [
    {
     "name": "stdout",
     "output_type": "stream",
     "text": [
      "/kaggle/working\n"
     ]
    }
   ],
   "source": [
    "!pwd\n",
    "\n",
    "\n"
   ]
  },
  {
   "cell_type": "code",
   "execution_count": 15,
   "metadata": {},
   "outputs": [
    {
     "name": "stdout",
     "output_type": "stream",
     "text": [
      "/kaggle/working/tower-1-mc\n",
      "remote: Enumerating objects: 9, done.\u001b[K\n",
      "remote: Counting objects: 100% (9/9), done.\u001b[K\n",
      "remote: Compressing objects: 100% (2/2), done.\u001b[K\n",
      "remote: Total 5 (delta 3), reused 5 (delta 3), pack-reused 0 (from 0)\u001b[K\n",
      "Unpacking objects: 100% (5/5), 1.03 KiB | 1.03 MiB/s, done.\n",
      "From https://github.com/namdeptraivcd/tower-1-mc\n",
      "   80984cc..86bba86  main       -> origin/main\n",
      "Updating 80984cc..86bba86\n",
      "Fast-forward\n",
      " k-nearest-neighbors/knn.py     |  2 \u001b[32m+\u001b[m\u001b[31m-\u001b[m\n",
      " k-nearest-neighbors/main.ipynb | 43 \u001b[32m++++++++++++++++++++++++++++\u001b[m\u001b[31m--------------\u001b[m\n",
      " 2 files changed, 30 insertions(+), 15 deletions(-)\n",
      "/kaggle/working\n"
     ]
    }
   ],
   "source": [
    "%cd tower-1-mc\n",
    "!git pull\n",
    "%cd .."
   ]
  },
  {
   "cell_type": "code",
   "execution_count": 16,
   "metadata": {},
   "outputs": [
    {
     "name": "stdout",
     "output_type": "stream",
     "text": [
      "Naive time:  0.7278881072998047\n",
      "Traceback (most recent call last):\n",
      "  File \"/kaggle/working/tower-1-mc/k-nearest-neighbors/knn.py\", line 37, in <module>\n",
      "    Distance2 = dis_pp_fast(z, X)\n",
      "                ^^^^^^^^^^^^^^^^^\n",
      "  File \"/kaggle/working/tower-1-mc/k-nearest-neighbors/knn.py\", line 29, in dis_pp_fast\n",
      "    res_2 = X2 + z2 - 2*np.dot(X.T, z) # có thể bỏ cả z2\n",
      "                        ^^^^^^^^^^^^^^\n",
      "ValueError: shapes (1000,100000) and (1000,) not aligned: 100000 (dim 1) != 1000 (dim 0)\n"
     ]
    }
   ],
   "source": [
    "!python tower-1-mc/k-nearest-neighbors/knn.py"
   ]
  }
 ],
 "metadata": {
  "kernelspec": {
   "display_name": "Python 3 (ipykernel)",
   "language": "python",
   "name": "python3"
  },
  "language_info": {
   "codemirror_mode": {
    "name": "ipython",
    "version": 3
   },
   "file_extension": ".py",
   "mimetype": "text/x-python",
   "name": "python",
   "nbconvert_exporter": "python",
   "pygments_lexer": "ipython3",
   "version": "3.11.13"
  }
 },
 "nbformat": 4,
 "nbformat_minor": 2
}
