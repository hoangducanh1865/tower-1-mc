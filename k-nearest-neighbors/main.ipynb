{
 "cells": [
  {
   "cell_type": "code",
   "execution_count": null,
   "metadata": {},
   "outputs": [],
   "source": [
    "'''\n",
    "git config user.name \n",
    "git config user.email\n",
    "git remote -v \n",
    "git branch \n",
    "\n",
    "git status\n",
    "git add . \n",
    "git commit -m “Update”\n",
    "git push -u origin main \n",
    "'''"
   ]
  },
  {
   "cell_type": "code",
   "execution_count": 1,
   "metadata": {},
   "outputs": [
    {
     "name": "stdout",
     "output_type": "stream",
     "text": [
      "Cloning into 'tower-1-mc'...\n",
      "remote: Enumerating objects: 80, done.\u001b[K\n",
      "remote: Counting objects: 100% (80/80), done.\u001b[K\n",
      "remote: Compressing objects: 100% (60/60), done.\u001b[K\n",
      "remote: Total 80 (delta 32), reused 61 (delta 16), pack-reused 0 (from 0)\u001b[K\n",
      "Receiving objects: 100% (80/80), 66.22 KiB | 6.02 MiB/s, done.\n",
      "Resolving deltas: 100% (32/32), done.\n"
     ]
    }
   ],
   "source": [
    "!git clone https://github.com/namdeptraivcd/tower-1-mc"
   ]
  },
  {
   "cell_type": "code",
   "execution_count": 12,
   "metadata": {},
   "outputs": [
    {
     "name": "stdout",
     "output_type": "stream",
     "text": [
      "/kaggle/working\n"
     ]
    }
   ],
   "source": [
    "!pwd\n",
    "\n",
    "\n"
   ]
  },
  {
   "cell_type": "code",
   "execution_count": 13,
   "metadata": {},
   "outputs": [
    {
     "name": "stdout",
     "output_type": "stream",
     "text": [
      "/kaggle/working/tower-1-mc\n",
      "remote: Enumerating objects: 9, done.\u001b[K\n",
      "remote: Counting objects: 100% (9/9), done.\u001b[K\n",
      "remote: Compressing objects: 100% (3/3), done.\u001b[K\n",
      "remote: Total 5 (delta 2), reused 5 (delta 2), pack-reused 0 (from 0)\u001b[K\n",
      "Unpacking objects: 100% (5/5), 1.29 KiB | 1.29 MiB/s, done.\n",
      "From https://github.com/namdeptraivcd/tower-1-mc\n",
      "   a62826d..80984cc  main       -> origin/main\n",
      "Updating a62826d..80984cc\n",
      "Fast-forward\n",
      " k-nearest-neighbors/knn.py     |   2 \u001b[32m+\u001b[m\u001b[31m-\u001b[m\n",
      " k-nearest-neighbors/main.ipynb | 104 \u001b[32m+++++++++++++++++++++++++++++++++++\u001b[m\u001b[31m------\u001b[m\n",
      " 2 files changed, 92 insertions(+), 14 deletions(-)\n",
      "/kaggle/working\n"
     ]
    }
   ],
   "source": [
    "%cd tower-1-mc\n",
    "!git pull\n",
    "%cd .."
   ]
  },
  {
   "cell_type": "code",
   "execution_count": 14,
   "metadata": {},
   "outputs": [
    {
     "name": "stdout",
     "output_type": "stream",
     "text": [
      "Naive time:  0.7022504806518555\n",
      "Traceback (most recent call last):\n",
      "  File \"/kaggle/working/tower-1-mc/k-nearest-neighbors/knn.py\", line 37, in <module>\n",
      "    Distance2 = dis_pp_fast(z, X)\n",
      "                ^^^^^^^^^^^^^^^^^\n",
      "  File \"/kaggle/working/tower-1-mc/k-nearest-neighbors/knn.py\", line 28, in dis_pp_fast\n",
      "    z2 = np.sum(z*z, axis = 1)\n",
      "         ^^^^^^^^^^^^^^^^^^^^^\n",
      "  File \"/usr/local/lib/python3.11/dist-packages/numpy/core/fromnumeric.py\", line 2313, in sum\n",
      "    return _wrapreduction(a, np.add, 'sum', axis, dtype, out, keepdims=keepdims,\n",
      "           ^^^^^^^^^^^^^^^^^^^^^^^^^^^^^^^^^^^^^^^^^^^^^^^^^^^^^^^^^^^^^^^^^^^^^\n",
      "  File \"/usr/local/lib/python3.11/dist-packages/numpy/core/fromnumeric.py\", line 88, in _wrapreduction\n",
      "    return ufunc.reduce(obj, axis, dtype, out, **passkwargs)\n",
      "           ^^^^^^^^^^^^^^^^^^^^^^^^^^^^^^^^^^^^^^^^^^^^^^^^^\n",
      "numpy.exceptions.AxisError: axis 1 is out of bounds for array of dimension 1\n"
     ]
    }
   ],
   "source": [
    "!python tower-1-mc/k-nearest-neighbors/knn.py"
   ]
  }
 ],
 "metadata": {
  "kernelspec": {
   "display_name": "Python 3 (ipykernel)",
   "language": "python",
   "name": "python3"
  },
  "language_info": {
   "codemirror_mode": {
    "name": "ipython",
    "version": 3
   },
   "file_extension": ".py",
   "mimetype": "text/x-python",
   "name": "python",
   "nbconvert_exporter": "python",
   "pygments_lexer": "ipython3",
   "version": "3.11.13"
  }
 },
 "nbformat": 4,
 "nbformat_minor": 2
}
