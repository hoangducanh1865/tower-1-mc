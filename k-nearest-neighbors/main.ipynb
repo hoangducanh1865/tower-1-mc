{
 "cells": [
  {
   "cell_type": "code",
   "execution_count": null,
   "metadata": {},
   "outputs": [],
   "source": [
    "'''\n",
    "git config user.name \n",
    "git config user.email\n",
    "git remote -v \n",
    "git branch \n",
    "\n",
    "git status\n",
    "git add . \n",
    "git commit -m “Update”\n",
    "git push -u origin main \n",
    "'''"
   ]
  },
  {
   "cell_type": "code",
   "execution_count": 1,
   "metadata": {},
   "outputs": [
    {
     "name": "stdout",
     "output_type": "stream",
     "text": [
      "Cloning into 'tower-1-mc'...\n",
      "remote: Enumerating objects: 80, done.\u001b[K\n",
      "remote: Counting objects: 100% (80/80), done.\u001b[K\n",
      "remote: Compressing objects: 100% (60/60), done.\u001b[K\n",
      "remote: Total 80 (delta 32), reused 61 (delta 16), pack-reused 0 (from 0)\u001b[K\n",
      "Receiving objects: 100% (80/80), 66.22 KiB | 6.02 MiB/s, done.\n",
      "Resolving deltas: 100% (32/32), done.\n"
     ]
    }
   ],
   "source": [
    "!git clone https://github.com/namdeptraivcd/tower-1-mc"
   ]
  },
  {
   "cell_type": "code",
   "execution_count": 9,
   "metadata": {},
   "outputs": [
    {
     "name": "stdout",
     "output_type": "stream",
     "text": [
      "/kaggle/working\n"
     ]
    }
   ],
   "source": [
    "!pwd\n",
    "\n",
    "\n"
   ]
  },
  {
   "cell_type": "code",
   "execution_count": 10,
   "metadata": {},
   "outputs": [
    {
     "name": "stdout",
     "output_type": "stream",
     "text": [
      "/kaggle/working/tower-1-mc\n",
      "Already up to date.\n",
      "/kaggle/working\n"
     ]
    }
   ],
   "source": [
    "%cd tower-1-mc\n",
    "!git pull\n",
    "%cd .."
   ]
  },
  {
   "cell_type": "code",
   "execution_count": 11,
   "metadata": {},
   "outputs": [
    {
     "name": "stdout",
     "output_type": "stream",
     "text": [
      "Traceback (most recent call last):\n",
      "  File \"/kaggle/working/tower-1-mc/k-nearest-neighbors/knn.py\", line 33, in <module>\n",
      "    Distance1 = dis_ps_naive(z, X)\n",
      "                ^^^^^^^^^^^^^^^^^^\n",
      "  File \"/kaggle/working/tower-1-mc/k-nearest-neighbors/knn.py\", line 20, in dis_ps_naive\n",
      "    res[0][i] = dis_pp(X[i], z)\n",
      "                ^^^^^^^^^^^^^^^\n",
      "  File \"/kaggle/working/tower-1-mc/k-nearest-neighbors/knn.py\", line 13, in dis_pp\n",
      "    d = z - x.reshape(z.shape, axis = 0)\n",
      "            ^^^^^^^^^^^^^^^^^^^^^^^^^^^^\n",
      "TypeError: 'axis' is an invalid keyword argument for this function\n"
     ]
    }
   ],
   "source": [
    "!python tower-1-mc/k-nearest-neighbors/knn.py"
   ]
  }
 ],
 "metadata": {
  "kernelspec": {
   "display_name": "Python 3 (ipykernel)",
   "language": "python",
   "name": "python3"
  },
  "language_info": {
   "codemirror_mode": {
    "name": "ipython",
    "version": 3
   },
   "file_extension": ".py",
   "mimetype": "text/x-python",
   "name": "python",
   "nbconvert_exporter": "python",
   "pygments_lexer": "ipython3",
   "version": "3.11.13"
  }
 },
 "nbformat": 4,
 "nbformat_minor": 2
}
