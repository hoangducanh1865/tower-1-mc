{
 "cells": [
  {
   "cell_type": "code",
   "execution_count": 9,
   "metadata": {},
   "outputs": [
    {
     "name": "stdout",
     "output_type": "stream",
     "text": [
      "fatal: destination path 'tower-1-mc' already exists and is not an empty directory.\n"
     ]
    }
   ],
   "source": [
    "!git clone https://github.com/namdeptraivcd/tower-1-mc.git"
   ]
  },
  {
   "cell_type": "code",
   "execution_count": 20,
   "metadata": {},
   "outputs": [
    {
     "data": {
      "text/plain": [
       "'\\ngit config user.name \\ngit config user.email\\ngit remote -v \\ngit branch \\n\\ngit status\\ngit add . \\ngit commit -m “Update”\\ngit push -u origin main \\n'"
      ]
     },
     "execution_count": 20,
     "metadata": {},
     "output_type": "execute_result"
    }
   ],
   "source": [
    "'''\n",
    "git config user.name \n",
    "git config user.email\n",
    "git remote -v \n",
    "git branch \n",
    "\n",
    "git status\n",
    "git add . \n",
    "git commit -m “Update”\n",
    "git push -u origin main \n",
    "'''\n",
    "!pip install names_of_required_libraries\n",
    "!python path_to_want_to_run_file"
   ]
  },
  {
   "cell_type": "code",
   "execution_count": 4,
   "metadata": {},
   "outputs": [
    {
     "ename": "",
     "evalue": "",
     "output_type": "error",
     "traceback": [
      "\u001b[1;31mFailed to connect to the remote Jupyter Server 'https://kkb-production.jupyter-proxy.kaggle.net/'. Verify the server is running and reachable. (Failed to connect to the remote Jupyter Server 'https://kkb-production.jupyter-proxy.kaggle.net/'. Verify the server is running and reachable. (Invalid response: 404 Not Found).)."
     ]
    }
   ],
   "source": [
    "import torch\n",
    "DEVICE = \"cuda\" if torch.cuda.is_available() else \"cpu\"\n",
    "print(DEVICE)"
   ]
  },
  {
   "cell_type": "code",
   "execution_count": 32,
   "metadata": {},
   "outputs": [
    {
     "name": "stdout",
     "output_type": "stream",
     "text": [
      "python3: can't open file '/kaggle/working/tower-1-mc/tower-1-mc/linear-regression/linear_regression.py': [Errno 2] No such file or directory\n"
     ]
    }
   ],
   "source": [
    "!python tower-1-mc/linear-regression/linear_regression.py"
   ]
  },
  {
   "cell_type": "code",
   "execution_count": 39,
   "metadata": {},
   "outputs": [],
   "source": [
    "!pwd\n",
    "%cd tower-1-mc\n",
    "%cd linear-regression\n",
    "#%cd ..\n"
   ]
  },
  {
   "cell_type": "code",
   "execution_count": 40,
   "metadata": {},
   "outputs": [
    {
     "name": "stdout",
     "output_type": "stream",
     "text": [
      "remote: Enumerating objects: 8, done.\u001b[K\n",
      "remote: Counting objects: 100% (8/8), done.\u001b[K\n",
      "remote: Compressing objects: 100% (3/3), done.\u001b[K\n",
      "remote: Total 5 (delta 2), reused 5 (delta 2), pack-reused 0 (from 0)\u001b[K\n",
      "Unpacking objects: 100% (5/5), 12.06 KiB | 6.03 MiB/s, done.\n",
      "From https://github.com/namdeptraivcd/tower-1-mc\n",
      "   e6e2706..c67cd64  main       -> origin/main\n",
      "Updating 3293c1a..c67cd64\n",
      "Fast-forward\n",
      " linear-regression/linear_regression.py |  21 \u001b[32m+++++++++\u001b[m\u001b[31m------------\u001b[m\n",
      " linear-regression/show_data.png        | Bin \u001b[31m0\u001b[m -> \u001b[32m13911\u001b[m bytes\n",
      " scatter_plot.png                       | Bin \u001b[31m12920\u001b[m -> \u001b[32m0\u001b[m bytes\n",
      " 3 files changed, 9 insertions(+), 12 deletions(-)\n",
      " create mode 100644 linear-regression/show_data.png\n",
      " delete mode 100644 scatter_plot.png\n"
     ]
    }
   ],
   "source": [
    "!git pull\n"
   ]
  },
  {
   "cell_type": "code",
   "execution_count": 41,
   "metadata": {},
   "outputs": [],
   "source": [
    "!python linear_regression.py"
   ]
  }
 ],
 "metadata": {
  "kernelspec": {
   "display_name": "Python 3 (ipykernel)",
   "language": "python",
   "name": "python3"
  }
 },
 "nbformat": 4,
 "nbformat_minor": 2
}
