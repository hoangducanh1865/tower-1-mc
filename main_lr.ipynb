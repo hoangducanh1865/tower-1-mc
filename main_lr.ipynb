{
 "cells": [
  {
   "cell_type": "code",
   "execution_count": 2,
   "metadata": {},
   "outputs": [
    {
     "name": "stdout",
     "output_type": "stream",
     "text": [
      "Cloning into 'tower-1-mc'...\n",
      "remote: Enumerating objects: 139, done.\u001b[K\n",
      "remote: Counting objects: 100% (139/139), done.\u001b[K\n",
      "remote: Compressing objects: 100% (102/102), done.\u001b[K\n",
      "remote: Total 139 (delta 62), reused 104 (delta 31), pack-reused 0 (from 0)\u001b[K\n",
      "Receiving objects: 100% (139/139), 77.27 KiB | 7.73 MiB/s, done.\n",
      "Resolving deltas: 100% (62/62), done.\n"
     ]
    }
   ],
   "source": [
    "!git clone https://github.com/hoangducanh1865/tower-1-mc.git"
   ]
  },
  {
   "cell_type": "code",
   "execution_count": 5,
   "metadata": {},
   "outputs": [
    {
     "name": "stdout",
     "output_type": "stream",
     "text": [
      "/kaggle/working/tower-1-mc\n",
      "remote: Enumerating objects: 11, done.\u001b[K\n",
      "remote: Counting objects: 100% (11/11), done.\u001b[K\n",
      "remote: Compressing objects: 100% (2/2), done.\u001b[K\n",
      "remote: Total 7 (delta 4), reused 7 (delta 4), pack-reused 0 (from 0)\u001b[K\n",
      "Unpacking objects: 100% (7/7), 800 bytes | 800.00 KiB/s, done.\n",
      "From https://github.com/hoangducanh1865/tower-1-mc\n",
      "   7209fab..871dc86  main       -> origin/main\n",
      "Updating 7209fab..871dc86\n",
      "Fast-forward\n",
      " main.py              |  6 \u001b[32m++\u001b[m\u001b[31m--\u001b[m\n",
      " main_lr.ipynb        | 92 \u001b[32m+++++++\u001b[m\u001b[31m---------------------------------------------\u001b[m\n",
      " src/config/config.py |  4 \u001b[32m+++\u001b[m\n",
      " 3 files changed, 19 insertions(+), 83 deletions(-)\n",
      " create mode 100644 src/config/config.py\n",
      "/kaggle/working\n"
     ]
    }
   ],
   "source": [
    "'''\n",
    "git config user.name \n",
    "git config user.email\n",
    "git remote -v \n",
    "git branch \n",
    "\n",
    "git status\n",
    "\n",
    "git add . \n",
    "git commit -m “Update”\n",
    "git push -u origin main \n",
    "'''\n",
    "%cd tower-1-mc\n",
    "!git pull\n",
    "%cd .."
   ]
  },
  {
   "cell_type": "code",
   "execution_count": 6,
   "metadata": {},
   "outputs": [
    {
     "name": "stdout",
     "output_type": "stream",
     "text": [
      "Figure(640x480)\n",
      "Figure(640x480)\n",
      "w [[-33.73541021]\n",
      " [  0.55920496]]\n",
      "my w [-33.73541021   0.55920496]\n"
     ]
    }
   ],
   "source": [
    "!python tower-1-mc/main.py"
   ]
  }
 ],
 "metadata": {
  "kernelspec": {
   "display_name": "Python 3 (ipykernel)",
   "language": "python",
   "name": "python3"
  },
  "language_info": {
   "codemirror_mode": {
    "name": "ipython",
    "version": 3
   },
   "file_extension": ".py",
   "mimetype": "text/x-python",
   "name": "python",
   "nbconvert_exporter": "python",
   "pygments_lexer": "ipython3",
   "version": "3.11.13"
  }
 },
 "nbformat": 4,
 "nbformat_minor": 2
}
